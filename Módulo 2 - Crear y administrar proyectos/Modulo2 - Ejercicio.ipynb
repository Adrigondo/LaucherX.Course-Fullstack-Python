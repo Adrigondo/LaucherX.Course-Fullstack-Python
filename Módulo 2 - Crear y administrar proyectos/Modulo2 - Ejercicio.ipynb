{
 "cells": [
  {
   "cell_type": "markdown",
   "metadata": {},
   "source": [
    "# Resolución del modulo 2"
   ]
  },
  {
   "cell_type": "markdown",
   "metadata": {},
   "source": [
    "Comandos ejecutados por consola:"
   ]
  },
  {
   "cell_type": "code",
   "execution_count": null,
   "metadata": {},
   "outputs": [],
   "source": [
    "#Crear el entorno virtual y llamarlo env\n",
    "python3 -m venv env\n",
    "\n",
    "#Ejecutar el entorno virtual\n",
    "source env/bin/activate\n",
    "\n",
    "#Desplegar la lista de librerias instaladas, al momento no hay así que no imprime nada\n",
    "pip freeze\n",
    "\n",
    "#Instalar la libreria python-dateutil\n",
    "pip install python-dateutil\n",
    "\n",
    "#Desplegar la lista de librerias instaladas, mostrará una lista de 2\n",
    "pip freeze\n",
    "\n",
    "#Ejecutar el archivo del projecto\n",
    "python3 src/app.py\n",
    "\n",
    "#Desactivar entorno virtual\n",
    "deactivate\n"
   ]
  },
  {
   "cell_type": "markdown",
   "metadata": {},
   "source": [
    "![](../images/module-2-terminal.PNG)"
   ]
  },
  {
   "cell_type": "markdown",
   "metadata": {},
   "source": [
    "Estructura de los directorios:\n",
    "\n",
    "![](../images/module-2-folders.PNG)"
   ]
  }
 ],
 "metadata": {
  "language_info": {
   "name": "python"
  },
  "orig_nbformat": 4
 },
 "nbformat": 4,
 "nbformat_minor": 2
}
